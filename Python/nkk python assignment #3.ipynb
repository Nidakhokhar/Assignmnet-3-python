{
 "cells": [
  {
   "cell_type": "code",
   "execution_count": 1,
   "id": "daecfa3b",
   "metadata": {},
   "outputs": [
    {
     "name": "stdout",
     "output_type": "stream",
     "text": [
      "Twinkle, twinle, little star, \n",
      "\tHow I wonder what you are! \n",
      "\t\tUp above the world so high, \n",
      "\t\t\tLike a diamond in the sky. \n",
      "Twinkle, Twinkle, little star,\n",
      "\t\t\tHow I wonder what you are! \n"
     ]
    }
   ],
   "source": [
    "print(\"Twinkle, twinle, little star, \\n\\tHow I wonder what you are! \\n\\t\\tUp above the world so high, \\n\\t\\t\\tLike a diamond in the sky. \\nTwinkle, Twinkle, little star,\\n\\t\\t\\tHow I wonder what you are! \")"
   ]
  },
  {
   "cell_type": "code",
   "execution_count": 2,
   "id": "3c929a15",
   "metadata": {},
   "outputs": [
    {
     "name": "stdout",
     "output_type": "stream",
     "text": [
      "Python version\n",
      "3.8.8 (default, Apr 13 2021, 15:08:03) [MSC v.1916 64 bit (AMD64)]\n"
     ]
    }
   ],
   "source": [
    "import sys\n",
    "print(\"Python version\")\n",
    "print (sys.version)"
   ]
  },
  {
   "cell_type": "code",
   "execution_count": 3,
   "id": "39f6edc3",
   "metadata": {},
   "outputs": [
    {
     "name": "stdout",
     "output_type": "stream",
     "text": [
      "Current date and time: \n",
      "2021-10-23 23:53:45.342272\n"
     ]
    }
   ],
   "source": [
    "import datetime\n",
    "now = datetime.datetime.now()\n",
    "print(\"Current date and time: \")\n",
    "print(str(now))"
   ]
  },
  {
   "cell_type": "code",
   "execution_count": 4,
   "id": "59ccc37a",
   "metadata": {},
   "outputs": [
    {
     "name": "stdout",
     "output_type": "stream",
     "text": [
      "Input the radius of the circle : 4\n",
      "The area of the circle with radius 4.0 is: 50.26548245743669\n"
     ]
    }
   ],
   "source": [
    "from math import pi\n",
    "r = float(input (\"Input the radius of the circle : \"))\n",
    "print (\"The area of the circle with radius \" + str(r) + \" is: \" + str(pi * r**2))"
   ]
  },
  {
   "cell_type": "code",
   "execution_count": 6,
   "id": "b87b34cd",
   "metadata": {},
   "outputs": [
    {
     "name": "stdout",
     "output_type": "stream",
     "text": [
      "What is your last name?:nida\n",
      "What's your last?: khokhar\n",
      "rahkohkadin\n"
     ]
    }
   ],
   "source": [
    "firstname = input(\"What is your last name?:\");\n",
    "lastname = input(\"What's your last?: \");\n",
    "finaloutput = (firstname + lastname);\n",
    "finaloutputreverse = finaloutput[::-1]\n",
    "print(finaloutputreverse)"
   ]
  },
  {
   "cell_type": "code",
   "execution_count": 7,
   "id": "5734c499",
   "metadata": {},
   "outputs": [
    {
     "name": "stdout",
     "output_type": "stream",
     "text": [
      "enter first number: 4\n",
      "enter second number: 4\n",
      "sum: 8\n"
     ]
    }
   ],
   "source": [
    "firstnumber = int(input(\"enter first number: \"));\n",
    "secondnumber = int(input(\"enter second number: \"));\n",
    " \n",
    "sum = firstnumber + secondnumber\n",
    " \n",
    "print(\"sum:\", sum)"
   ]
  },
  {
   "cell_type": "code",
   "execution_count": 8,
   "id": "395a39b3",
   "metadata": {},
   "outputs": [
    {
     "name": "stdout",
     "output_type": "stream",
     "text": [
      "Mathematics marks?33\n",
      "urdu marks?77\n",
      "Science marks?66\n",
      "english marks?99\n",
      "islamiat marks?88\n",
      "Grade A\n",
      "72.6\n"
     ]
    }
   ],
   "source": [
    "maths_marks = int(input(\"Mathematics marks?\"));\n",
    "urdu_marks = int(input(\"urdu marks?\"));\n",
    "science_marks = int(input(\"Science marks?\"));\n",
    "english_marks = int(input(\"english marks?\"));\n",
    "islamiat_marks = int(input(\"islamiat marks?\"));\n",
    "total_marks = 500;\n",
    "obtained_marks = ( maths_marks + science_marks + urdu_marks + english_marks + islamiat_marks);\n",
    "percentage = obtained_marks/total_marks*100;\n",
    "if percentage < 100 and percentage > 80 :\n",
    "    print(\"Grade A+\");\n",
    "elif percentage < 80 and percentage > 70:\n",
    "    print(\"Grade A\");\n",
    "elif percentage < 70 and percentage > 60:\n",
    "    print(\"Grade B\");\n",
    "elif percentage < 60 and percentage > 50:\n",
    "    print(\"Grade C\");\n",
    "elif percentage < 50 and percentage > 40:\n",
    "    print(\"Grade D\");\n",
    "else:\n",
    "    print(\"fail\");\n",
    "    \n",
    "print(percentage)"
   ]
  },
  {
   "cell_type": "code",
   "execution_count": 9,
   "id": "07623fc0",
   "metadata": {},
   "outputs": [
    {
     "name": "stdout",
     "output_type": "stream",
     "text": [
      "Enter a number: 22\n",
      "This is an even number.\n"
     ]
    }
   ],
   "source": [
    "ques= int(input(\"Enter a number: \"))\n",
    "jk = ques % 2\n",
    "if jk > 0:\n",
    "    print(\"This is an odd number.\")\n",
    "else:\n",
    "    print(\"This is an even number.\")"
   ]
  },
  {
   "cell_type": "code",
   "execution_count": 10,
   "id": "ab97e2c5",
   "metadata": {},
   "outputs": [
    {
     "name": "stdout",
     "output_type": "stream",
     "text": [
      "Number of items in the list =  5\n"
     ]
    }
   ],
   "source": [
    "List1 = [\"Hello\", \"Edureka\", 1, 2, 3];\n",
    "print (\"Number of items in the list = \", len(List1));"
   ]
  },
  {
   "cell_type": "code",
   "execution_count": 11,
   "id": "000824c4",
   "metadata": {},
   "outputs": [
    {
     "name": "stdout",
     "output_type": "stream",
     "text": [
      "11\n"
     ]
    }
   ],
   "source": [
    "def sum_list(items):\n",
    "    sum_numbers = 0\n",
    "    for x in items:\n",
    "        sum_numbers += x\n",
    "    return sum_numbers\n",
    "print(sum_list([1,2,8]))"
   ]
  },
  {
   "cell_type": "code",
   "execution_count": 12,
   "id": "ea8bf201",
   "metadata": {},
   "outputs": [
    {
     "name": "stdout",
     "output_type": "stream",
     "text": [
      "Largest number 10\n"
     ]
    }
   ],
   "source": [
    "list = [ 1 , 2 ,8 , 10]\n",
    "list.sort()\n",
    "print(\"Largest number\",list[-1])"
   ]
  },
  {
   "cell_type": "code",
   "execution_count": 13,
   "id": "1c8d3f1c",
   "metadata": {},
   "outputs": [
    {
     "name": "stdout",
     "output_type": "stream",
     "text": [
      "1\n",
      "1\n",
      "2\n",
      "3\n"
     ]
    }
   ],
   "source": [
    "a = [1, 1, 2, 3, 5, 8, 13, 21, 34, 55, 89];\n",
    "for i in a:\n",
    "    if i < 5:\n",
    "        print(i)"
   ]
  },
  {
   "cell_type": "code",
   "execution_count": null,
   "id": "acae9a77",
   "metadata": {},
   "outputs": [],
   "source": []
  }
 ],
 "metadata": {
  "kernelspec": {
   "display_name": "Python 3",
   "language": "python",
   "name": "python3"
  },
  "language_info": {
   "codemirror_mode": {
    "name": "ipython",
    "version": 3
   },
   "file_extension": ".py",
   "mimetype": "text/x-python",
   "name": "python",
   "nbconvert_exporter": "python",
   "pygments_lexer": "ipython3",
   "version": "3.8.8"
  }
 },
 "nbformat": 4,
 "nbformat_minor": 5
}
